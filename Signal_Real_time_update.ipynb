{
 "cells": [
  {
   "cell_type": "code",
   "execution_count": 1,
   "metadata": {},
   "outputs": [],
   "source": [
    "mainland_bank = ['939']\n",
    "mainland_insur = ['2318','2628']\n",
    "mainland_realestate = ['688']\n",
    "gambling = ['27','1928']\n",
    "energy = ['883','386','857']\n",
    "telecommunications = ['728','941']\n",
    "Network = ['700','992']\n",
    "local_insur = ['1299']\n",
    "local_bank = ['5']\n",
    "local_realestate = ['16']\n",
    "Finance = ['388']\n",
    "public_service = ['902']\n",
    "car = ['2333']\n",
    "congol = ['1']\n",
    "\n",
    "strategy_list = ['0939.HK', '2318.HK', '2628.HK', '0688.HK', '0027.HK', '1928.HK', '0883.HK', '0386.HK', \n",
    "                 '0857.HK', '0728.HK', '0941.HK', '0700.HK', '0992.HK', '1299.HK', '0005.HK', '0016.HK', \n",
    "                 '0388.HK', '0902.HK', '2333.HK', '0001.HK']\n",
    "\n",
    "namelist = []\n",
    "\n",
    "for i in strategy_list:\n",
    "    namelist.append(i.split('.')[0])"
   ]
  },
  {
   "cell_type": "code",
   "execution_count": 4,
   "metadata": {},
   "outputs": [],
   "source": [
    "def signal_update(df):\n",
    "    \n",
    "    openp = df.loc[:,'Open'].tolist()[-3:]\n",
    "    closep = df.loc[:,'Close'].tolist()[-3:]\n",
    "    lowp = df.loc[:,'Low'].tolist()[-3:]\n",
    "    highp = df.loc[:,'High'].tolist()[-3:]\n",
    "\n",
    "\n",
    "    # BigYang and BigYin\n",
    "    change = percentChange(openp[-1],closep[-1])\n",
    "    if change >= 4.00 and change <= 5.00:\n",
    "        df.at[(len(df)-1), 'BigYang']= 1\n",
    "    else: df.at[(len(df)-1), 'BigYang']= 0\n",
    "    if change <= -4.00 and change >= -5.00:\n",
    "        df.at[(len(df)-1), 'BigYin']= 1\n",
    "    else: df.at[(len(df)-1), 'BigYin']= 0\n",
    "        \n",
    "\n",
    "    # Goodeat and Badeat\n",
    "    if closep[-2] < openp[-2] and closep[-1] > openp[-1] and closep[-1] > openp[-2] and closep[-2] > openp[-1]:\n",
    "        df.at[(len(df)-1), 'Goodeat']= 1\n",
    "    else: df.at[(len(df)-1), 'Goodeat']= 0\n",
    "    if closep[-2] > openp[-2] and closep[-1] < openp[-1] and closep[-2] < openp[-1] and closep[-1] < openp[-2]:\n",
    "        df.at[(len(df)-1), 'Badeat']= 1\n",
    "    else: df.at[(len(df)-1), 'Badeat']= 0\n",
    "        \n",
    "\n",
    "    # Bull_harami and Bear_harami\n",
    "    if closep[-2] < openp[-2] and closep[-1] > openp[-1] and closep[-2] < openp[-1] and closep[-1] < openp[-2]:\n",
    "        df.at[(len(df)-1), 'Bull_harami']= 1\n",
    "    else:  df.at[(len(df)-1), 'Bull_harami']= 0\n",
    "    if closep[-2] > openp[-2] and closep[-1] < openp[-1] and closep[-2] > openp[-1] and closep[-1] > openp[-2]:\n",
    "        df.at[(len(df)-1), 'Bear_harami']= 1\n",
    "    else:  df.at[(len(df)-1), 'Bear_harami']= 0\n",
    "\n",
    "\n",
    "    # Bull_reverse and Bear_reverse\n",
    "    if ((closep[-1]-closep[-2])/closep[-2]) > 0.03 and ((closep[-2]-closep[-3])/closep[-3]) < -0.03:\n",
    "        df.at[(len(df)-1), 'Bull_reverse']= 1\n",
    "    else: df.at[(len(df)-1), 'Bull_reverse']= 0\n",
    "    if ((closep[-1]-closep[-2])/closep[-2]) < -0.03 and ((closep[-2]-closep[-3])/closep[-3]) > 0.03:\n",
    "        df.at[(len(df)-1), 'Bear_reverse']= 1\n",
    "    else: df.at[(len(df)-1), 'Bear_reverse']= 0\n",
    "\n",
    "\n",
    "    # sunrise and darkcloud\n",
    "    if openp[-2] > closep[-2] and openp[-1] < closep[-1] and openp[-1] < closep[-2] and openp[-2] > closep[-1] and ((closep[-2]+openp[-2])/2) < closep[-1]:\n",
    "        df.at[(len(df)-1), 'sunrise']= 1\n",
    "    else: df.at[(len(df)-1), 'sunrise']= 0\n",
    "    if openp[-2] < closep[-2] and openp[-1] > closep[-1] and openp[-2] < closep[-1] and openp[-1] > closep[-2] and ((closep[-2]+openp[-2])/2) > closep[-1]:\n",
    "        df.at[(len(df)-1), 'darkcloud']= 1\n",
    "    else: df.at[(len(df)-1), 'darkcloud']= 0\n",
    "\n",
    "\n",
    "    # hammer and shootingstar\n",
    "    if highp[-1] - closep[-1] <= closep[-1] - openp[-1] and closep[-1] > openp[-1] and (openp[-1] - lowp[-1]) >= 2*(closep[-1]-openp[-1]) and (closep[-1] - openp[-1])/openp[-1] > 0.005:\n",
    "        df.at[(len(df)-1), 'hammer']= 1\n",
    "    else: df.at[(len(df)-1), 'hammer']= 0\n",
    "    if openp[-1] > closep[-1] and (highp[-1] - openp[-1]) >= (2*(openp[-1]-closep[-1])) and (closep[-1]-lowp[-1]) <= (openp[-1]-closep[-1]) and ((openp[-1]-closep[-1])/openp[-1]) > 0.005:\n",
    "        df.at[(len(df)-1), 'shootingstar']= 1\n",
    "    else: df.at[(len(df)-1), 'shootingstar']= 0\n"
   ]
  },
  {
   "cell_type": "code",
   "execution_count": 16,
   "metadata": {
    "tags": []
   },
   "outputs": [
    {
     "ename": "IndexError",
     "evalue": "list index out of range",
     "output_type": "error",
     "traceback": [
      "\u001b[0;31m---------------------------------------------------------------------------\u001b[0m",
      "\u001b[0;31mIndexError\u001b[0m                                Traceback (most recent call last)",
      "Input \u001b[0;32mIn [16]\u001b[0m, in \u001b[0;36m<module>\u001b[0;34m\u001b[0m\n\u001b[1;32m     59\u001b[0m today \u001b[38;5;241m=\u001b[39m datetime\u001b[38;5;241m.\u001b[39mdatetime\u001b[38;5;241m.\u001b[39mnow()\u001b[38;5;241m.\u001b[39mstrftime(\u001b[38;5;124m'\u001b[39m\u001b[38;5;132;01m%-d\u001b[39;00m\u001b[38;5;124m/\u001b[39m\u001b[38;5;124m%\u001b[39m\u001b[38;5;124m-m/\u001b[39m\u001b[38;5;124m%\u001b[39m\u001b[38;5;124mY\u001b[39m\u001b[38;5;124m'\u001b[39m)\n\u001b[1;32m     60\u001b[0m df\u001b[38;5;241m.\u001b[39mat[\u001b[38;5;28mlen\u001b[39m(df), \u001b[38;5;124m'\u001b[39m\u001b[38;5;124mDate\u001b[39m\u001b[38;5;124m'\u001b[39m] \u001b[38;5;241m=\u001b[39mtoday\n\u001b[0;32m---> 62\u001b[0m \u001b[38;5;28;01mif\u001b[39;00m \u001b[43mprice_current\u001b[49m\u001b[43m[\u001b[49m\u001b[38;5;241;43m0\u001b[39;49m\u001b[43m]\u001b[49m[\u001b[38;5;241m1\u001b[39m] \u001b[38;5;241m==\u001b[39m \u001b[38;5;241m0.0\u001b[39m \u001b[38;5;129;01mor\u001b[39;00m price_current[\u001b[38;5;241m1\u001b[39m][\u001b[38;5;241m1\u001b[39m] \u001b[38;5;241m==\u001b[39m \u001b[38;5;241m0.0\u001b[39m \u001b[38;5;129;01mor\u001b[39;00m price_current[\u001b[38;5;241m2\u001b[39m][\u001b[38;5;241m1\u001b[39m] \u001b[38;5;241m==\u001b[39m \u001b[38;5;241m0.0\u001b[39m \u001b[38;5;129;01mor\u001b[39;00m price_current[\u001b[38;5;241m3\u001b[39m][\u001b[38;5;241m1\u001b[39m] \u001b[38;5;241m==\u001b[39m \u001b[38;5;241m0.0\u001b[39m:\n\u001b[1;32m     63\u001b[0m     \u001b[38;5;28;01mcontinue\u001b[39;00m\n\u001b[1;32m     65\u001b[0m \u001b[38;5;28;01mfor\u001b[39;00m i \u001b[38;5;129;01min\u001b[39;00m price_current:\n",
      "\u001b[0;31mIndexError\u001b[0m: list index out of range"
     ]
    }
   ],
   "source": [
    "import urllib3\n",
    "from bs4 import BeautifulSoup as bs\n",
    "import pandas as pd\n",
    "import datetime\n",
    "import time\n",
    "\n",
    "Be_rich = []\n",
    "Be_rich_str = []\n",
    "\n",
    "df_Long = pd.read_csv('/Users/ktchan33/Desktop/Python/Option_trade/strategy_trade/Backtest_21082017/Backtest_Long_21082017.csv')\n",
    "df_Long = df_Long.set_index('Num')\n",
    "df_Strangle = pd.read_csv('/Users/ktchan33/Desktop/Python/Option_trade/strategy_trade/Backtest_21082017/Backtest_Strangle_21082017.csv')\n",
    "df_Strangle = df_Strangle.set_index('Num')\n",
    "\n",
    "url = 'http://www.futunn.com/quote/stock?m=hk&code=0{}'\n",
    "\n",
    "localpath = '/Users/ktchan33/Desktop/Python/Option_trade/strategy_trade/{}.HK.csv'\n",
    "\n",
    "ii = 0\n",
    "\n",
    "signal = ['BigYang','BigYin','Goodeat','Badeat','Bull_harami',\n",
    "          'Bear_harami','Bull_reverse','Bear_reverse','sunrise',\n",
    "          'darkcloud','shootingstar','hammer']\n",
    "\n",
    "def percentChange(startPoint,currentPoint):\n",
    "    return ((float(currentPoint-startPoint))/abs(startPoint))*100\n",
    "\n",
    "def current_price(rows):\n",
    "    data = []\n",
    "    for each_row in rows:\n",
    "        check_price01 = str(each_row).find('price01')\n",
    "        if check_price01 != -1:\n",
    "            dex = rows.index(each_row)\n",
    "            data.append(['close',float(str(rows[dex]).split('>')[1].split('<')[0])])\n",
    "            data.append(['high',float(str(rows[dex+3]).split('>')[1].split('<')[0])])\n",
    "            data.append(['low',float(str(rows[dex+4]).split('>')[1].split('<')[0])])\n",
    "            data.append(['open',float(str(rows[dex+5]).split('>')[1].split('<')[0])])\n",
    "            break\n",
    "\n",
    "    return data\n",
    "\n",
    "for main in namelist:\n",
    "    while ii < 5:\n",
    "        http=urllib3.PoolManager()\n",
    "        response =http.request('GET',url.format(main)) \n",
    "        rows = bs(response.data.decode('utf-8')).findAll('span')\n",
    "        price_current = current_price(rows)\n",
    "\n",
    "        if price_current is not None: \n",
    "            response.close()\n",
    "            break\n",
    "        else: \n",
    "            response.close()\n",
    "            ii += 1\n",
    "\n",
    "    df = pd.read_csv(localpath.format(main))\n",
    "\n",
    "\n",
    "    today = datetime.datetime.now().strftime('%-d/%-m/%Y')\n",
    "    df.at[len(df), 'Date'] =today\n",
    "    \n",
    "    if price_current[0][1] == 0.0 or price_current[1][1] == 0.0 or price_current[2][1] == 0.0 or price_current[3][1] == 0.0:\n",
    "        continue\n",
    "        \n",
    "    for i in price_current:\n",
    "        if i[0] == 'close': df.at[len(df)-1, 'Close']= i[1]\n",
    "        elif i[0] == 'low': df.at[len(df)-1, 'Low']= i[1]   \n",
    "        elif i[0] == 'high': df.at[len(df)-1, 'High']= i[1]  \n",
    "        elif i[0] == 'open': df.at[len(df)-1, 'Open']= i[1]  \n",
    "\n",
    "    \n",
    "    signal_update(df)\n",
    "\n",
    "    for i in signal:\n",
    "        if df.loc[len(df)-1,i] == 1:\n",
    "            callputdex = float(df_Long.loc[int(main),i].split(' ')[0])\n",
    "            strdex = float(df_Strangle.loc[int(main),i].split(' ')[0])\n",
    "            \n",
    "            df_signal = pd.read_csv('/Users/ktchan33/Desktop/Python/Option_trade/strategy_trade/Backtest_21082017/{}_{}.csv'.format(main,i))\n",
    "            df_signal = df_signal.set_index(['Descript'])\n",
    "            upm = df_signal.loc['up3_median',:].tolist()\n",
    "            downm = df_signal.loc['down3_median',:].tolist()\n",
    "            \n",
    "            if callputdex > 100 or callputdex < -100:\n",
    "                if strdex > 450:\n",
    "                    Be_rich.append([main,i,callputdex,strdex,upm,downm])\n",
    "                elif strdex < 450:\n",
    "                    Be_rich.append([main,i,callputdex,upm,downm])\n",
    "                    \n",
    "            if strdex > 500:\n",
    "                Be_rich.append([main,i,callputdex,strdex,upm,downm])    \n",
    "\n",
    "for trade in Be_rich:\n",
    "    print (trade)\n",
    "    print (\"==================================================================================\")\n",
    "    \n",
    "for trade in Be_rich_str:\n",
    "    print (trade)\n",
    "    print (\"==================================================================================\")\n",
    "    \n",
    "print ('Thats all')"
   ]
  },
  {
   "cell_type": "code",
   "execution_count": null,
   "metadata": {
    "collapsed": true,
    "jupyter": {
     "outputs_hidden": true
    }
   },
   "outputs": [],
   "source": [
    "print price_current"
   ]
  },
  {
   "cell_type": "code",
   "execution_count": null,
   "metadata": {
    "collapsed": true,
    "jupyter": {
     "outputs_hidden": true
    }
   },
   "outputs": [],
   "source": [
    "print main"
   ]
  },
  {
   "cell_type": "code",
   "execution_count": 10,
   "metadata": {
    "tags": []
   },
   "outputs": [
    {
     "name": "stdout",
     "output_type": "stream",
     "text": [
      "/Applications/JupyterLab.app/Contents/Resources/jlab_server/bin:/Applications/JupyterLab.app/Contents/Resources/jlab_server/condabin:/Library/Frameworks/Python.framework/Versions/3.8/bin:/Library/Frameworks/Python.framework/Versions/3.7/bin:/usr/local/bin:/usr/bin:/bin:/usr/sbin:/sbin:/node_modules/.bin:/Applications/JupyterLab.app/Contents/MacOS\n"
     ]
    }
   ],
   "source": [
    "!echo $PATH"
   ]
  },
  {
   "cell_type": "code",
   "execution_count": 11,
   "metadata": {},
   "outputs": [
    {
     "name": "stdout",
     "output_type": "stream",
     "text": [
      "Defaulting to user installation because normal site-packages is not writeable\n",
      "Collecting bs4\n",
      "  Using cached bs4-0.0.1.tar.gz (1.1 kB)\n",
      "  Preparing metadata (setup.py) ... \u001b[?25ldone\n",
      "\u001b[?25hCollecting beautifulsoup4\n",
      "  Downloading beautifulsoup4-4.10.0-py3-none-any.whl (97 kB)\n",
      "\u001b[2K     \u001b[90m━━━━━━━━━━━━━━━━━━━━━━━━━━━━━━━━━━━━━━━━\u001b[0m \u001b[32m97.4/97.4 KB\u001b[0m \u001b[31m6.0 MB/s\u001b[0m eta \u001b[36m0:00:00\u001b[0m\n",
      "\u001b[?25hCollecting soupsieve>1.2\n",
      "  Downloading soupsieve-2.3.1-py3-none-any.whl (37 kB)\n",
      "Building wheels for collected packages: bs4\n",
      "  Building wheel for bs4 (setup.py) ... \u001b[?25ldone\n",
      "\u001b[?25h  Created wheel for bs4: filename=bs4-0.0.1-py3-none-any.whl size=1272 sha256=77d07318e9278cba52f98b38458506d4ae4febff2fdc0c9de5163af61fb8edb6\n",
      "  Stored in directory: /Users/ktchan33/Library/Caches/pip/wheels/75/78/21/68b124549c9bdc94f822c02fb9aa3578a669843f9767776bca\n",
      "Successfully built bs4\n",
      "Installing collected packages: soupsieve, beautifulsoup4, bs4\n",
      "Successfully installed beautifulsoup4-4.10.0 bs4-0.0.1 soupsieve-2.3.1\n"
     ]
    }
   ],
   "source": [
    "!pip3 install bs4"
   ]
  },
  {
   "cell_type": "code",
   "execution_count": null,
   "metadata": {},
   "outputs": [],
   "source": []
  },
  {
   "cell_type": "code",
   "execution_count": null,
   "metadata": {},
   "outputs": [],
   "source": []
  }
 ],
 "metadata": {
  "kernelspec": {
   "display_name": "Python 3 (ipykernel)",
   "language": "python",
   "name": "python3"
  },
  "language_info": {
   "codemirror_mode": {
    "name": "ipython",
    "version": 3
   },
   "file_extension": ".py",
   "mimetype": "text/x-python",
   "name": "python",
   "nbconvert_exporter": "python",
   "pygments_lexer": "ipython3",
   "version": "3.8.12"
  }
 },
 "nbformat": 4,
 "nbformat_minor": 4
}
